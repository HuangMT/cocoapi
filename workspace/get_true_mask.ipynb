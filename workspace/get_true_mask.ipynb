{
 "cells": [
  {
   "cell_type": "code",
   "execution_count": null,
   "metadata": {},
   "outputs": [],
   "source": [
    "import json\n",
    "%matplotlib inline\n",
    "from pycocotools.coco import COCO\n",
    "import numpy as np\n",
    "#import skimage.io as io\n",
    "import matplotlib.pyplot as plt\n",
    "import pylab\n",
    "import cv2\n",
    "pylab.rcParams['figure.figsize'] = (8.0, 10.0)\n"
   ]
  },
  {
   "cell_type": "code",
   "execution_count": null,
   "metadata": {},
   "outputs": [],
   "source": [
    "root_path = '/home/mingtao.huang/'\n",
    "dataDir=root_path + 'dataset/coco/'\n",
    "dataType='val2017'\n",
    "img_path=dataDir+dataType+'/'\n",
    "annFile='{}annotations/instances_{}.json'.format(dataDir,dataType)\n",
    "coco = COCO(annFile)"
   ]
  },
  {
   "cell_type": "code",
   "execution_count": null,
   "metadata": {},
   "outputs": [],
   "source": [
    "with open('choice.json','r') as jf:\n",
    "    j = jf.readlines()[0]\n",
    "    dic = json.loads(j)\n",
    "    dic['foreids'] = coco.getCatIds(catNms=dic['foreground'])\n",
    "    dic['backids'] = coco.getCatIds(catNms=dic['background'])\n",
    "    dic['condids'] = coco.getCatIds(catNms=dic['conditional'])\n",
    "    print(dic)"
   ]
  },
  {
   "cell_type": "code",
   "execution_count": null,
   "metadata": {},
   "outputs": [],
   "source": [
    "def getForegroundMask(img_id):\n",
    "    img_msg = coco.loadImgs(ids=img_id)[0]\n",
    "    C = np.zeros((img_msg['height'],img_msg['width']))\n",
    "    area = 0\n",
    "    for ann in coco.loadAnns(ids=coco.getAnnIds(imgIds=img_id)):\n",
    "        #print(ann)\n",
    "        if ann['category_id'] in dic['foreids']:\n",
    "            C += coco.annToMask(ann)>0\n",
    "            area += ann['area']\n",
    "    for ann in coco.loadAnns(ids=coco.getAnnIds(imgIds=img_id)):\n",
    "        if ann['category_id'] in dic['condids']:\n",
    "            mask = coco.annToMask(ann).astype(np.uint8)\n",
    "            if np.sum(C[cv2.dilate(mask,np.ones((7,7),np.uint8))>0]) >0:\n",
    "                C += mask\n",
    "                area += ann['area']\n",
    "    return area,(C>0).astype(np.uint8)"
   ]
  },
  {
   "cell_type": "code",
   "execution_count": null,
   "metadata": {},
   "outputs": [],
   "source": [
    "cnt = 0\n",
    "with open('{}log/available_imgid_{}.txt'.format(dataDir,dataType),'w') as f:\n",
    "    for img_id in coco.getImgIds():\n",
    "        cnt += 1\n",
    "        if cnt % 100==0:\n",
    "            print('transformed %6d pictures.'%cnt)\n",
    "        area,mask = getForegroundMask(img_id)\n",
    "        if area>1000:\n",
    "            cv2.imwrite(dataDir+'coco_mask_'+dataType+'/%012d.png'%coco.loadImgs(ids=img_id)[0]['id'],mask)\n",
    "            f.writelines(str(img_id)+'\\n')\n",
    "print('%6d in total'%cnt)"
   ]
  },
  {
   "cell_type": "code",
   "execution_count": null,
   "metadata": {},
   "outputs": [],
   "source": [
    "area,mask = getForegroundMask(327701)\n",
    "plt.imshow(mask)"
   ]
  },
  {
   "cell_type": "code",
   "execution_count": null,
   "metadata": {},
   "outputs": [],
   "source": []
  },
  {
   "cell_type": "code",
   "execution_count": null,
   "metadata": {},
   "outputs": [],
   "source": []
  },
  {
   "cell_type": "code",
   "execution_count": null,
   "metadata": {},
   "outputs": [],
   "source": [
    "with open('{}log/available_imgid_{}.txt'.format(dataDir,'train2017'),'r') as f:\n",
    "    print(len(f.readlines()))"
   ]
  },
  {
   "cell_type": "code",
   "execution_count": null,
   "metadata": {},
   "outputs": [],
   "source": []
  },
  {
   "cell_type": "code",
   "execution_count": null,
   "metadata": {},
   "outputs": [],
   "source": []
  },
  {
   "cell_type": "code",
   "execution_count": null,
   "metadata": {},
   "outputs": [],
   "source": []
  },
  {
   "cell_type": "code",
   "execution_count": null,
   "metadata": {},
   "outputs": [],
   "source": []
  },
  {
   "cell_type": "code",
   "execution_count": null,
   "metadata": {},
   "outputs": [],
   "source": []
  },
  {
   "cell_type": "markdown",
   "metadata": {},
   "source": [
    "# Generate Jason"
   ]
  },
  {
   "cell_type": "code",
   "execution_count": null,
   "metadata": {},
   "outputs": [],
   "source": [
    "import json\n",
    "\n",
    "fore = ['person','bird','cat','dog','horse','sheep','cow','elephant','bear','zebra','giraffe']\n",
    "back = ['bicycle','car','motorcycle','airplane','bus','train','truck','boat','traffic light','fire hydrant',\n",
    "        'stop sign','parking meter','bench','chair', 'couch','potted plant', 'bed', 'dining table',\n",
    "        'toilet','tv','microwave', 'oven', 'toaster', 'sink', 'refrigerator']\n",
    "cond = ['backpack', 'umbrella', 'handbag', 'tie', 'suitcase','frisbee', 'skis', 'snowboard', 'sports ball', 'kite', 'baseball bat',\n",
    "        'baseball glove', 'skateboard', 'surfboard','tennis racket','bottle', 'wine glass', 'cup', 'fork', 'knife', 'spoon',\n",
    "        'bowl', 'banana','apple', 'sandwich', 'orange', 'broccoli', 'carrot','hot dog','pizza', 'donut', 'cake','laptop', 'mouse',\n",
    "        'remote', 'keyboard','cell phone','book', 'clock', 'vase', 'scissors', 'teddy bear','hair drier','toothbrush']\n",
    "\n",
    "dic = {'foreground':fore,'background':back,'conditional':cond}\n",
    "j = json.dumps(dic)\n",
    "with open('choice.json','w') as jf:\n",
    "    jf.writelines(j)\n",
    "print(len(fore)+len(back)+len(cond))"
   ]
  },
  {
   "cell_type": "markdown",
   "metadata": {},
   "source": [
    "# Generate Python File"
   ]
  },
  {
   "cell_type": "code",
   "execution_count": null,
   "metadata": {},
   "outputs": [],
   "source": [
    "%%writefile get_true_mask.py\n",
    "import json\n",
    "from pycocotools.coco import COCO\n",
    "import numpy as np\n",
    "import cv2\n",
    "root_path = '/home/mingtao.huang/'\n",
    "dataDir=root_path + 'dataset/coco/'\n",
    "dataType='train2017'\n",
    "img_path=dataDir+dataType+'/'\n",
    "annFile='{}annotations/instances_{}.json'.format(dataDir,dataType)\n",
    "coco = COCO(annFile)\n",
    "with open('choice.json','r') as jf:\n",
    "    j = jf.readlines()[0]\n",
    "    dic = json.loads(j)\n",
    "    dic['foreids'] = coco.getCatIds(catNms=dic['foreground'])\n",
    "    dic['backids'] = coco.getCatIds(catNms=dic['background'])\n",
    "    dic['condids'] = coco.getCatIds(catNms=dic['conditional'])\n",
    "    print(dic)\n",
    "def getForegroundMask(img_id):\n",
    "    img_msg = coco.loadImgs(ids=img_id)[0]\n",
    "    C = np.zeros((img_msg['height'],img_msg['width']))\n",
    "    area = 0\n",
    "    for ann in coco.loadAnns(ids=coco.getAnnIds(imgIds=img_id)):\n",
    "        #print(ann)\n",
    "        if ann['category_id'] in dic['foreids']:\n",
    "            C += coco.annToMask(ann)>0\n",
    "            area += ann['area']\n",
    "    for ann in coco.loadAnns(ids=coco.getAnnIds(imgIds=img_id)):\n",
    "        if ann['category_id'] in dic['condids']:\n",
    "            mask = coco.annToMask(ann).astype(np.uint8)\n",
    "            if np.sum(C[cv2.dilate(mask,np.ones((7,7),np.uint8))>0]) >0:\n",
    "                C += mask\n",
    "                area += ann['area']\n",
    "    return area,(C>0).astype(np.uint8)\n",
    "cnt = 0\n",
    "with open('{}log/available_imgid_{}.txt'.format(dataDir,dataType),'w') as f:\n",
    "    for img_id in coco.getImgIds():\n",
    "        cnt += 1\n",
    "        if cnt % 100==0:\n",
    "            print('transformed %6d pictures.'%cnt)\n",
    "        area,mask = getForegroundMask(img_id)\n",
    "        if area>1000:\n",
    "            cv2.imwrite(dataDir+'coco_mask_'+dataType+'/%012d.png'%coco.loadImgs(ids=img_id)[0]['id'],mask)\n",
    "            f.writelines(str(img_id)+'\\n')\n",
    "print('%6d in total'%cnt)"
   ]
  },
  {
   "cell_type": "markdown",
   "metadata": {},
   "source": [
    "# Result\n",
    "\n",
    "train datasets: 118287 in total, 76618 available\n",
    "\n",
    "validation datasets: 5000 in total, 3231 available"
   ]
  },
  {
   "cell_type": "code",
   "execution_count": null,
   "metadata": {},
   "outputs": [],
   "source": []
  }
 ],
 "metadata": {
  "kernelspec": {
   "display_name": "TFkernel",
   "language": "python",
   "name": "tfkernel"
  },
  "language_info": {
   "codemirror_mode": {
    "name": "ipython",
    "version": 3
   },
   "file_extension": ".py",
   "mimetype": "text/x-python",
   "name": "python",
   "nbconvert_exporter": "python",
   "pygments_lexer": "ipython3",
   "version": "3.6.6"
  },
  "toc": {
   "base_numbering": 1,
   "nav_menu": {},
   "number_sections": true,
   "sideBar": true,
   "skip_h1_title": false,
   "title_cell": "Table of Contents",
   "title_sidebar": "Contents",
   "toc_cell": false,
   "toc_position": {},
   "toc_section_display": true,
   "toc_window_display": false
  }
 },
 "nbformat": 4,
 "nbformat_minor": 2
}
