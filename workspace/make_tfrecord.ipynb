{
 "cells": [
  {
   "cell_type": "code",
   "execution_count": null,
   "metadata": {},
   "outputs": [],
   "source": [
    "import os\n",
    "\n",
    "with open('/home/mingtao.huang/dataset/coco/log/available_imgid_train2017.txt') as ft:\n",
    "    id_train = ft.readlines()\n",
    "\n",
    "with open('/home/mingtao.huang/dataset/coco/log/available_imgid_val2017.txt') as ft:\n",
    "    id_val = ft.readlines()\n",
    "    \n",
    "dataset_dir = '/home/mingtao.huang/dataset/coco/'\n",
    "with open('/home/mingtao.huang/dataset/coco/list/train.txt','w') as f:\n",
    "    for ids in id_train:\n",
    "        idn = int(ids)\n",
    "        f.writelines(dataset_dir+'train2017/%012d.jpg '%idn+dataset_dir+'coco_mask_train2017/%012d.png'%idn+'\\n')\n",
    "\n",
    "with open('/home/mingtao.huang/dataset/coco/list/val.txt','w') as f:\n",
    "    for ids in id_val:\n",
    "        idn = int(ids)\n",
    "        f.writelines(dataset_dir+'val2017/%012d.jpg '%idn+dataset_dir+'coco_mask_val2017/%012d.png'%idn+'\\n')\n"
   ]
  },
  {
   "cell_type": "code",
   "execution_count": null,
   "metadata": {},
   "outputs": [],
   "source": [
    "\n",
    "with open('/home/mingtao.huang/dataset/coco/list/val.txt','r') as f:\n",
    "    print(len(f.readlines()))"
   ]
  },
  {
   "cell_type": "code",
   "execution_count": null,
   "metadata": {},
   "outputs": [],
   "source": []
  },
  {
   "cell_type": "code",
   "execution_count": null,
   "metadata": {},
   "outputs": [],
   "source": []
  }
 ],
 "metadata": {
  "kernelspec": {
   "display_name": "TFkernel",
   "language": "python",
   "name": "tfkernel"
  },
  "language_info": {
   "codemirror_mode": {
    "name": "ipython",
    "version": 3
   },
   "file_extension": ".py",
   "mimetype": "text/x-python",
   "name": "python",
   "nbconvert_exporter": "python",
   "pygments_lexer": "ipython3",
   "version": "3.6.6"
  },
  "toc": {
   "base_numbering": 1,
   "nav_menu": {},
   "number_sections": true,
   "sideBar": true,
   "skip_h1_title": false,
   "title_cell": "Table of Contents",
   "title_sidebar": "Contents",
   "toc_cell": false,
   "toc_position": {},
   "toc_section_display": true,
   "toc_window_display": false
  }
 },
 "nbformat": 4,
 "nbformat_minor": 2
}
